{
  "nbformat": 4,
  "nbformat_minor": 0,
  "metadata": {
    "colab": {
      "provenance": [],
      "authorship_tag": "ABX9TyOq1b+3Afpfi+jIeD+fVUyz",
      "include_colab_link": true
    },
    "kernelspec": {
      "name": "python3",
      "display_name": "Python 3"
    },
    "language_info": {
      "name": "python"
    }
  },
  "cells": [
    {
      "cell_type": "markdown",
      "metadata": {
        "id": "view-in-github",
        "colab_type": "text"
      },
      "source": [
        "<a href=\"https://colab.research.google.com/github/miguelmccormickudg/Gravitational_housing_model/blob/main/modelo_parte_1.ipynb\" target=\"_parent\"><img src=\"https://colab.research.google.com/assets/colab-badge.svg\" alt=\"Open In Colab\"/></a>"
      ]
    },
    {
      "cell_type": "code",
      "execution_count": null,
      "metadata": {
        "colab": {
          "base_uri": "https://localhost:8080/"
        },
        "id": "UKKHItDsaglo",
        "outputId": "9aff71bb-0a30-4784-ce42-9a3643131746"
      },
      "outputs": [
        {
          "output_type": "stream",
          "name": "stdout",
          "text": [
            "Archivo guardado en: /content/M_host_resultado.csv\n"
          ]
        }
      ],
      "source": [
        "import pandas as pd\n",
        "\n",
        "# Cargar el archivo Excel\n",
        "file_path = '/content/para red social 998 registros.xlsx'\n",
        "df = pd.read_excel(file_path)\n",
        "\n",
        "# 1. Contar cuántas veces aparece cada host_name (usaremos transform para mantener dimensiones)\n",
        "df['host_count_total'] = df.groupby('host_name')['host_name'].transform('count')\n",
        "\n",
        "# 2. Superhost: 1 si True, 0 si False\n",
        "df['Superhost_value'] = df['Superhost'].apply(lambda x: 1 if x == True else 0)\n",
        "\n",
        "# 3. Contar número de cohosts por fila\n",
        "df['cohosts_count'] = df[['cohosts_1', 'cohosts_2', 'cohosts_3']].notnull().sum(axis=1)\n",
        "\n",
        "# 4. Asignar valor según ubicación\n",
        "def location_score(loc):\n",
        "    if isinstance(loc, str):\n",
        "        loc = loc.lower()\n",
        "        if 'chapala' in loc or 'ajijic' in loc:\n",
        "            return 3\n",
        "        elif 'guadalajara' in loc:\n",
        "            return 2\n",
        "        else:\n",
        "            return 1\n",
        "    return 1\n",
        "\n",
        "df['location_score'] = df['host_location'].apply(location_score)\n",
        "\n",
        "# 5. Calcular M_host\n",
        "df['M_host'] = (\n",
        "    df['host_count_total'] +\n",
        "    df['Superhost_value'] +\n",
        "    df['cohosts_count'] +\n",
        "    df['location_score'] +\n",
        "    df['host_rating'] +\n",
        "    df['host_Count'] +\n",
        "    df['host_years'] +\n",
        "    df['reviewsCount']\n",
        ")\n",
        "\n",
        "# Exportar a CSV\n",
        "output_path = '/content/M_host_resultado.csv'\n",
        "df.to_csv(output_path, index=False)\n",
        "\n",
        "print(f\"Archivo guardado en: {output_path}\")"
      ]
    },
    {
      "cell_type": "code",
      "source": [
        "import pandas as pd\n",
        "\n",
        "# Cargar los archivos\n",
        "df_hosts = pd.read_csv('/content/M_host_resultado.csv')\n",
        "df_listings = pd.read_excel('/content/para red social 998 registros.xlsx')\n",
        "\n",
        "# Unir ambos DataFrames por host_name (asumiendo que hay relación)\n",
        "df = df_listings.merge(df_hosts[['host_name', 'M_host']], on='host_name', how='left')\n",
        "\n",
        "# 1. room_Category: 2 si private_room, 1 si entire_home\n",
        "df['room_category_value'] = df['room_Category'].apply(\n",
        "    lambda x: 2 if x == 'private_room' else (1 if x == 'entire_home' else 0)\n",
        ")\n",
        "\n",
        "# 2. petsAllowed: 2 si True, 0 si False\n",
        "df['petsAllowed_value'] = df['petsAllowed'].apply(lambda x: 2 if x == True else 0)\n",
        "\n",
        "# 3. canInstantBook: 2 si True, 0 si False\n",
        "df['canInstantBook_value'] = df['canInstantBook'].apply(lambda x: 2 if x == True else 0)\n",
        "\n",
        "# 4. Contar amenities no nulos (de las columnas 0 a 9)\n",
        "amenity_columns = [f'amenities/{i}/title' for i in range(10)]\n",
        "df['amenities_count'] = df[amenity_columns].notnull().sum(axis=1)\n",
        "\n",
        "# 5. Calcular M_property\n",
        "df['M_property'] = (\n",
        "    df['M_host'] +\n",
        "    df['room_category_value'] +\n",
        "    df['Listing_Rating'] +\n",
        "    df['Reviews'] +\n",
        "    df['maxGuest'] +\n",
        "    df['petsAllowed_value'] +\n",
        "    df['canInstantBook_value'] +\n",
        "    df['amenities_count']\n",
        ")\n",
        "\n",
        "# Exportar a CSV\n",
        "output_path = '/content/M_property_resultado.csv'\n",
        "df.to_csv(output_path, index=False)\n",
        "\n",
        "print(f\"Archivo guardado en: {output_path}\")"
      ],
      "metadata": {
        "colab": {
          "base_uri": "https://localhost:8080/"
        },
        "id": "ZI21ju-ohEI1",
        "outputId": "c27f4d90-0dc7-47c2-9a97-a010445625c0"
      },
      "execution_count": null,
      "outputs": [
        {
          "output_type": "stream",
          "name": "stdout",
          "text": [
            "Archivo guardado en: /content/M_property_resultado.csv\n"
          ]
        }
      ]
    }
  ]
}